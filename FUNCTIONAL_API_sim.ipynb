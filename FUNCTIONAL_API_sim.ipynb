{
  "nbformat": 4,
  "nbformat_minor": 0,
  "metadata": {
    "colab": {
      "provenance": [],
      "authorship_tag": "ABX9TyPirAN2imC8c5QSn8xdtZJZ",
      "include_colab_link": true
    },
    "kernelspec": {
      "name": "python3",
      "display_name": "Python 3"
    },
    "language_info": {
      "name": "python"
    }
  },
  "cells": [
    {
      "cell_type": "markdown",
      "metadata": {
        "id": "view-in-github",
        "colab_type": "text"
      },
      "source": [
        "<a href=\"https://colab.research.google.com/github/amirmohammadkalateh/what-is-wide-and-deep-network-/blob/main/FUNCTIONAL_API_sim.ipynb\" target=\"_parent\"><img src=\"https://colab.research.google.com/assets/colab-badge.svg\" alt=\"Open In Colab\"/></a>"
      ]
    },
    {
      "cell_type": "code",
      "execution_count": 11,
      "metadata": {
        "id": "82b4z5XrITHV"
      },
      "outputs": [],
      "source": [
        "import numpy as no\n",
        "from tensorflow import keras\n",
        "from keras import layers\n",
        "from keras import ops\n",
        "from tensorflow.keras import Input, layers"
      ]
    },
    {
      "cell_type": "code",
      "source": [
        "\n",
        "inputs = Input(shape=(784,))\n",
        "x = layers.Dense(64, activation='relu')(inputs)\n",
        "x = layers.Dense(64, activation='relu')(x)\n",
        "outputs = layers.Dense(10, activation='softmax')(x)"
      ],
      "metadata": {
        "id": "eHVgVrt4LQoU"
      },
      "execution_count": 12,
      "outputs": []
    },
    {
      "cell_type": "code",
      "source": [
        "dense = layers.Dense(64, activation=\"relu\")\n",
        "x=dense(inputs)"
      ],
      "metadata": {
        "id": "O6_OHelPMguV"
      },
      "execution_count": 13,
      "outputs": []
    }
  ]
}